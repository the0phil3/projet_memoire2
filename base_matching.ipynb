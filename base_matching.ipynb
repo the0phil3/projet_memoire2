{
 "cells": [
  {
   "cell_type": "code",
   "execution_count": 1,
   "metadata": {},
   "outputs": [],
   "source": [
    "import pandas as pd, numpy as np, os, sys\n",
    "import matplotlib.pyplot as plt\n",
    "import seaborn as sns\n",
    "\n",
    "from funcs import update_vienne\n",
    "from mpf_funcs import update_caledonie, lowercase_column, convert_date_format\n",
    "\n",
    "import similarity_cython\n"
   ]
  },
  {
   "cell_type": "code",
   "execution_count": 2,
   "metadata": {},
   "outputs": [],
   "source": [
    "df = pd.read_csv('data/primary/big_bertha.csv', sep=',')\n",
    "df_other = pd.read_csv('data/primary/edited_geotagged_bertha.csv', sep=',') #On recupure l'information geocodée\n",
    "df = pd.merge(df, df_other[['pays']], left_index=True, right_index=True)\n",
    "df = df.apply(update_vienne, axis=1)\n",
    "df = df.apply(update_caledonie, axis=1)\n",
    "lowercase_column(df, 'Nom du soldat')\n",
    "lowercase_column(df, 'Prénom(s)')\n",
    "\n"
   ]
  },
  {
   "cell_type": "code",
   "execution_count": 3,
   "metadata": {},
   "outputs": [
    {
     "name": "stderr",
     "output_type": "stream",
     "text": [
      "/var/folders/41/1r7_f1_93g56d738vfqw0y8m0000gn/T/ipykernel_58717/3078710691.py:2: DtypeWarning: Columns (2,31,33) have mixed types. Specify dtype option on import or set low_memory=False.\n",
      "  mpf = pd.read_csv('data/primary/mpf_seine.csv', sep=';')\n"
     ]
    }
   ],
   "source": [
    "# CSV des mpfs  de la Seine\n",
    "mpf = pd.read_csv('data/primary/mpf_seine.csv', sep=';')\n",
    "lowercase_column(mpf, 'nom')\n",
    "lowercase_column(mpf, 'prenom')\n",
    "mpf['naissance_jour_mois_annee'] = mpf['naissance_jour_mois_annee'].apply(lambda x : convert_date_format(x) if isinstance(x, str) else x)\n"
   ]
  },
  {
   "cell_type": "code",
   "execution_count": 4,
   "metadata": {},
   "outputs": [],
   "source": [
    "merged_df = pd.merge(df, mpf,\n",
    "                     left_on=['Date de naissance'],\n",
    "                     right_on=['naissance_jour_mois_annee'],\n",
    "                     how='inner')\n",
    "merged_df.dropna(axis=1, how='all', inplace=True)"
   ]
  },
  {
   "cell_type": "code",
   "execution_count": 5,
   "metadata": {},
   "outputs": [],
   "source": [
    "# Calculate similarity scores for first and last names\n",
    "merged_df['score_firstname'] = merged_df.apply(lambda row: similarity_cython.similarity_score_cython(str(row['Prénom(s)']).encode('utf-8'), str(row['prenom']).encode('utf-8')), axis=1)\n",
    "merged_df['score_lastname'] = merged_df.apply(lambda row: similarity_cython.similarity_score_cython(str(row['Nom du soldat']).encode('utf-8'), str(row['nom_y']).encode('utf-8')), axis=1)\n",
    "\n",
    "matches = merged_df[(merged_df['score_firstname'] > 75) & (merged_df['score_lastname'] > 65)]"
   ]
  },
  {
   "cell_type": "code",
   "execution_count": 6,
   "metadata": {},
   "outputs": [],
   "source": [
    "matches.to_csv('~/dev/projet_memoire2/data/primary/merged_mpf.csv', sep=',', index=False)"
   ]
  },
  {
   "cell_type": "code",
   "execution_count": null,
   "metadata": {},
   "outputs": [],
   "source": []
  }
 ],
 "metadata": {
  "kernelspec": {
   "display_name": "base",
   "language": "python",
   "name": "python3"
  },
  "language_info": {
   "codemirror_mode": {
    "name": "ipython",
    "version": 3
   },
   "file_extension": ".py",
   "mimetype": "text/x-python",
   "name": "python",
   "nbconvert_exporter": "python",
   "pygments_lexer": "ipython3",
   "version": "3.9.13"
  }
 },
 "nbformat": 4,
 "nbformat_minor": 2
}
