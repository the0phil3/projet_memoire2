{
 "cells": [
  {
   "cell_type": "code",
   "execution_count": 1,
   "metadata": {},
   "outputs": [],
   "source": [
    "import pandas as pd, numpy as np, os, sys, glob"
   ]
  },
  {
   "cell_type": "code",
   "execution_count": 2,
   "metadata": {},
   "outputs": [
    {
     "name": "stderr",
     "output_type": "stream",
     "text": [
      "/var/folders/41/1r7_f1_93g56d738vfqw0y8m0000gn/T/ipykernel_32902/2200558321.py:4: ParserWarning: Skipping line 10214: ';' expected after '\"'\n",
      "\n",
      "  li1 = [pd.read_csv(filename, encoding='UTF-8', engine=\"python\", sep = \";\", quotechar='\"', on_bad_lines='warn',) for filename in nominative]\n"
     ]
    }
   ],
   "source": [
    "path = \"/Users/Theo/Desktop/14-18/base_mpf/\"\n",
    "os.chdir(path)\n",
    "nominative = glob.glob(path + \"1_base_nominative_complet/\" + \"*.csv\")\n",
    "li1 = [pd.read_csv(filename, encoding='UTF-8', engine=\"python\", sep = \";\", quotechar='\"', on_bad_lines='warn',) for filename in nominative]\n",
    "MPF_n = pd.concat(li1, axis = 0, ignore_index = True)"
   ]
  },
  {
   "cell_type": "code",
   "execution_count": 3,
   "metadata": {},
   "outputs": [
    {
     "name": "stderr",
     "output_type": "stream",
     "text": [
      "/var/folders/41/1r7_f1_93g56d738vfqw0y8m0000gn/T/ipykernel_32902/2624331786.py:3: SettingWithCopyWarning: \n",
      "A value is trying to be set on a copy of a slice from a DataFrame\n",
      "\n",
      "See the caveats in the documentation: https://pandas.pydata.org/pandas-docs/stable/user_guide/indexing.html#returning-a-view-versus-a-copy\n",
      "  mpf.dropna(axis=1, how='all', inplace=True)\n",
      "/var/folders/41/1r7_f1_93g56d738vfqw0y8m0000gn/T/ipykernel_32902/2624331786.py:4: SettingWithCopyWarning: \n",
      "A value is trying to be set on a copy of a slice from a DataFrame\n",
      "\n",
      "See the caveats in the documentation: https://pandas.pydata.org/pandas-docs/stable/user_guide/indexing.html#returning-a-view-versus-a-copy\n",
      "  mpf.drop(columns=['id_conflit_intitule', 'id_famille_cote_intitule', 'sous_serie', 'serie', 'article'], inplace=True)\n"
     ]
    }
   ],
   "source": [
    "mpf = MPF_n[(MPF_n['id_recrutement_bureau_intitule'] == \"Seine 1er bureau (75)\") | (MPF_n['id_recrutement_bureau_intitule'] == \"Seine 2e bureau (75)\") | (MPF_n['id_recrutement_bureau_intitule'] == \"Seine 3e bureau (75)\") |\n",
    "\t  (MPF_n['id_recrutement_bureau_intitule'] == \"Seine 4e bureau (75)\") | (MPF_n['id_recrutement_bureau_intitule'] == \"Seine 6e bureau (75)\")]\n",
    "mpf.dropna(axis=1, how='all', inplace=True)\n",
    "mpf.drop(columns=['id_conflit_intitule', 'id_famille_cote_intitule', 'sous_serie', 'serie', 'article'], inplace=True)"
   ]
  },
  {
   "cell_type": "code",
   "execution_count": 4,
   "metadata": {},
   "outputs": [],
   "source": [
    "mpf.to_csv('/Users/Theo/dev/projet_memoire2/data/primary/mpf_seine.csv', sep=';', index=False)"
   ]
  },
  {
   "cell_type": "code",
   "execution_count": null,
   "metadata": {},
   "outputs": [],
   "source": []
  }
 ],
 "metadata": {
  "kernelspec": {
   "display_name": "base",
   "language": "python",
   "name": "python3"
  },
  "language_info": {
   "codemirror_mode": {
    "name": "ipython",
    "version": 3
   },
   "file_extension": ".py",
   "mimetype": "text/x-python",
   "name": "python",
   "nbconvert_exporter": "python",
   "pygments_lexer": "ipython3",
   "version": "3.9.13"
  }
 },
 "nbformat": 4,
 "nbformat_minor": 2
}
