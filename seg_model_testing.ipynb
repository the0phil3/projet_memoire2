{
 "cells": [
  {
   "cell_type": "code",
   "execution_count": 2,
   "id": "88a501c2",
   "metadata": {},
   "outputs": [
    {
     "name": "stdout",
     "output_type": "stream",
     "text": [
      "Ultralytics YOLOv8.0.221 🚀 Python-3.9.13 torch-1.13.1 CPU (Intel Core(TM) i5-1038NG7 2.00GHz)\n",
      "Setup complete ✅ (8 CPUs, 16.0 GB RAM, 210.2/465.6 GB disk)\n",
      "\n",
      "OS                  macOS-10.16-x86_64-i386-64bit\n",
      "Environment         Darwin\n",
      "Python              3.9.13\n",
      "Install             pip\n",
      "RAM                 16.00 GB\n",
      "CPU                 Intel Core(TM) i5-1038NG7 2.00GHz\n",
      "CUDA                None\n",
      "\n",
      "matplotlib          ✅ 3.5.2>=3.3.0\n",
      "numpy               ✅ 1.23.5>=1.22.2\n",
      "opencv-python       ✅ 4.7.0.68>=4.6.0\n",
      "pillow              ✅ 9.2.0>=7.1.2\n",
      "pyyaml              ✅ 6.0>=5.3.1\n",
      "requests            ✅ 2.28.1>=2.23.0\n",
      "scipy               ✅ 1.9.1>=1.4.1\n",
      "torch               ✅ 1.13.1>=1.8.0\n",
      "torchvision         ✅ 0.14.1>=0.9.0\n",
      "tqdm                ✅ 4.64.1>=4.64.0\n",
      "pandas              ✅ 1.4.4>=1.1.4\n",
      "seaborn             ✅ 0.11.2>=0.11.0\n",
      "psutil              ✅ 5.9.0\n",
      "py-cpuinfo          ✅ 9.0.0\n",
      "thop                ✅ 0.1.1-2209072238>=0.1.1\n"
     ]
    }
   ],
   "source": [
    "from ultralytics import YOLO\n",
    "import os\n",
    "from IPython.display import display, Image\n",
    "from IPython import display\n",
    "display.clear_output()\n",
    "!yolo checks"
   ]
  },
  {
   "cell_type": "code",
   "execution_count": 18,
   "id": "7ae3ebf7",
   "metadata": {},
   "outputs": [
    {
     "name": "stdout",
     "output_type": "stream",
     "text": [
      "Ultralytics YOLOv8.0.221 🚀 Python-3.9.13 torch-1.13.1 CPU (Intel Core(TM) i5-1038NG7 2.00GHz)\n",
      "Model summary (fused): 168 layers, 3008183 parameters, 0 gradients, 8.1 GFLOPs\n",
      "\n",
      "image 1/5 /Users/Theo/Desktop/test/192104_archives_FRAD075RM_D4R1_0761_0420_D.jpg: 1280x896 1 adresse, 1 dates, 2 decisions, 2 detailss, 1 etat_civil, 1 instruction, 2 noms, 1 num_mat, 272.4ms\n",
      "image 2/5 /Users/Theo/Desktop/test/208894_archives_FRAD075RM_D4R1_1163_0508_D.jpg: 1280x768 1 adresse, 1 affectation, 1 campagnes, 1 dates, 1 decision, 1 details, 1 etat_civil, 1 instruction, 1 num_mat, 213.6ms\n",
      "image 3/5 /Users/Theo/Desktop/test/476278_archives_FRAD075RM_D4R1_1304_0899_D.jpg: 1280x832 1 adresse, 1 dates, 1 decision, 2 detailss, 1 etat_civil, 1 instruction, 1 nom, 1 num_mat, 1 signalement, 230.4ms\n",
      "image 4/5 /Users/Theo/Desktop/test/545044_archives_FRAD075RM_D4R1_1962_0137_D.jpg: 1280x896 1 adresse, 1 affectation, 2 blessuress, 2 campagness, 1 dates, 1 decision, 1 details, 1 etat_civil, 1 instruction, 1 nom, 1 num_mat, 1 signalement, 234.0ms\n",
      "image 5/5 /Users/Theo/Desktop/test/738137_archives_FRAD075RM_D4R1_1661_0531_D.jpg: 1280x896 1 adresse, 1 affectation, 1 dates, 1 decision, 2 detailss, 1 etat_civil, 1 instruction, 1 nom, 1 num_mat, 1 signalement, 242.6ms\n",
      "Speed: 9.7ms preprocess, 238.6ms inference, 5.2ms postprocess per image at shape (1, 3, 1280, 896)\n",
      "Results saved to \u001b[1mruns/detect/predict15\u001b[0m\n",
      "💡 Learn more at https://docs.ultralytics.com/modes/predict\n"
     ]
    }
   ],
   "source": [
    "!yolo task=detect mode=predict model=\"seg_model_v2/weights/best.pt\" conf=0.05 source=\"/Users/Theo/Desktop/test/*.jpg\"\n",
    "\n",
    "\n"
   ]
  },
  {
   "cell_type": "code",
   "execution_count": null,
   "id": "83c96046",
   "metadata": {},
   "outputs": [],
   "source": []
  }
 ],
 "metadata": {
  "kernelspec": {
   "display_name": "Python 3 (ipykernel)",
   "language": "python",
   "name": "python3"
  },
  "language_info": {
   "codemirror_mode": {
    "name": "ipython",
    "version": 3
   },
   "file_extension": ".py",
   "mimetype": "text/x-python",
   "name": "python",
   "nbconvert_exporter": "python",
   "pygments_lexer": "ipython3",
   "version": "3.9.13"
  }
 },
 "nbformat": 4,
 "nbformat_minor": 5
}
