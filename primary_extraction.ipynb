{
 "cells": [
  {
   "cell_type": "code",
   "execution_count": 1,
   "metadata": {},
   "outputs": [],
   "source": [
    "import pandas as pd, numpy as np, os, sys\n",
    "import matplotlib.pyplot as plt\n",
    "import seaborn as sns\n",
    "from funcs import *\n",
    "from extract_const import DECISION, AFFECTATION, GRADE, grade_norme_dico\n",
    "from mpf_funcs import check_labat_ids, extract_year, update_grade\n",
    "from collections import Counter"
   ]
  },
  {
   "cell_type": "code",
   "execution_count": 2,
   "metadata": {},
   "outputs": [
    {
     "name": "stderr",
     "output_type": "stream",
     "text": [
      "/var/folders/41/1r7_f1_93g56d738vfqw0y8m0000gn/T/ipykernel_17762/1008774295.py:81: SettingWithCopyWarning: \n",
      "A value is trying to be set on a copy of a slice from a DataFrame\n",
      "\n",
      "See the caveats in the documentation: https://pandas.pydata.org/pandas-docs/stable/user_guide/indexing.html#returning-a-view-versus-a-copy\n",
      "  foreign.dropna(subset=['Lieu de naissance'], inplace=True)\n"
     ]
    }
   ],
   "source": [
    "# CSV des registres matricules de la Seine\n",
    "df = pd.read_csv('data/primary/big_bertha.csv', sep=',')\n",
    "\n",
    "# Information geographique\n",
    "df_other = pd.read_csv('data/primary/edited_geotagged_bertha.csv', sep=',') #On recupure l'information geocodée\n",
    "df = pd.merge(df, df_other[['pays']], left_index=True, right_index=True)\n",
    "df = df.apply(update_vienne, axis=1)\n",
    "df = df.apply(update_colony, axis=1)\n",
    "df['etranger'] = df['pays'].apply(categorize_country)\n",
    "\n",
    "# Information anthropologique\n",
    "df = extract_height(df)\n",
    "df = extract_prenom(df)\n",
    "df['age'] = df['Date de naissance'].apply(lambda x: extract_age(x)if isinstance(x, str) else x)\n",
    "df['année_classe'] = df['num_mat'].apply(lambda x: extract_classe(x) if isinstance(x, str) else x)\n",
    "df = df.apply(fill_classe, axis=1)\n",
    "df['année_classe'] = pd.to_numeric(df['année_classe'], errors='coerce')\n",
    "\n",
    "# Information sociale\n",
    "df['niveau_dinst'] = df['instruction'].apply(lambda x: extract_inst(x) if isinstance(x, str) else x)\n",
    "df['inst_mili'] = df['instruction'].apply(lambda x: extract_inst_militaire(x) if isinstance(x, str) else x)\n",
    "df['junior'] = df.apply(extract_junior, axis=1)\n",
    "df['famille'] = df.apply(extract_famille, axis=1)\n",
    "df['permis'] = df.apply(extract_permis, axis=1)\n",
    "df['criminel'] = df.apply(check_criminel, axis=1)\n",
    "df['etudiant'] = df.apply(check_etudiant, axis=1)\n",
    "\n",
    "# Information militaire\n",
    "df['classement'] = df['decision'].apply(lambda x: extract_decision(x, DECISION) if isinstance(x, str) else x)\n",
    "df['arme'] = df['affectation'].apply(lambda x: extract_arme(x.lower(), AFFECTATION) if isinstance(x, str) else x)\n",
    "df['certificat'] = df['details'].apply(lambda x: extract_certificat(x.lower()) if isinstance(x, str) else x)\n",
    "df['grade'] = df['details'].apply(lambda x: extract_grade(x.lower(), GRADE) if isinstance (x, str) else x)\n",
    "df['grade'] = df['grade'].map(grade_norme_dico) #We do this depending on whether we want to visualise the ranks\n",
    "df['promotion'] = df['details'].apply(lambda x: extract_promotion(x.lower(), GRADE) if isinstance (x, str) else x)\n",
    "df['promotion_list'] = df['details'].apply(lambda x: extract_promotion_list(x.lower(), GRADE) if isinstance (x, str) else x)\n",
    "df['promotion_start'] = df['promotion'].apply(lambda x: int(x.split('-')[0]) if isinstance(x, str) else x)\n",
    "df['promotion_end'] = df['promotion'].apply(lambda x: int(x.split('-')[1]) if isinstance(x, str) and '-' in x else x)\n",
    "\n",
    "# Information disciplinaire\n",
    "df['insoumis'] = df.apply(check_insoumis, axis=1)\n",
    "df['conseil'] = df.apply(check_conseil, axis=1)\n",
    "\n",
    "# Information sur la guerre\n",
    "df['prisonnier'] = df.apply(check_prisonnier, axis=1)\n",
    "df['mitrailleur'] = df.apply(check_mitrailleur, axis=1)\n",
    "df['mort'] = df['details'].apply(lambda x: extract_mort(x.lower()) if isinstance(x, str) else x)\n",
    "df['blesse'] = df.apply(check_blessure, axis=1)\n",
    "df = find_blessure(df)\n",
    "\n",
    "# Information sur la post-guerre\n",
    "df['pension'] = df['details'].apply(lambda x: extract_pension(x) if isinstance(x, str) else x)\n",
    "df['pension'] = df['pension'].apply(lambda x: clean_pension(x))\n",
    "df['reforme'] = df['details'].apply(lambda x: find_reforme(x) if isinstance(x, str) else x)\n",
    "df['citation'] = df.apply(check_citation, axis=1)\n",
    "df['legion dhonneur'] = df.apply(check_legion_dhonneur, axis=1)\n",
    "df['medailles'] = df.apply(check_medals, axis=1)\n",
    "\n",
    "# On rajoute les informations de la base MPF\n",
    "merged_df = pd.read_csv('data/primary/merged_mpf.csv', sep=',')\n",
    "merged_df = merged_df[['labat_id', 'id_mention_intitule', 'classe', 'recrutement_matricule', 'id_recrutement_bureau_intitule',\n",
    "                  'id_grade_intitule', 'id_unite_intitule', 'deces_jour_mois_annee', 'id_deces_lieu_intitule',\n",
    "                  'id_deces_departement_intitule', 'id_deces_pays_intitule']]\n",
    "merged_df.columns = ['mpf_' + col if col != 'labat_id' else col for col in merged_df.columns]\n",
    "check_labat_ids(merged_df, df)\n",
    "merged_df['labat_id'] = merged_df['labat_id'].astype(df['labat_id'].dtype)\n",
    "df = df.join(merged_df.set_index('labat_id'), on='labat_id', how='left')\n",
    "\n",
    "# On nettoie les données de la base MPF\n",
    "df['mpf_classe_cleaned'] = df['mpf_classe'].apply(lambda x: extract_year(x) if isinstance(x, str) else x)\n",
    "df['mpf_classe_cleaned'] = pd.to_numeric(df['mpf_classe_cleaned'], errors='coerce')\n",
    "df['année_classe'] = df.apply(lambda row: row['mpf_classe_cleaned'] if pd.notna(row['mpf_classe_cleaned']) else row['année_classe'], axis=1)\n",
    "\n",
    "# On met a jour les grades avec la base MPF\n",
    "df['mpf_id_grade_intitule'] = df['mpf_id_grade_intitule'].apply(lambda x: 'soldat de 2e classe' if x == 'soldat' else x)\n",
    "df['mpf_grade_normalized'] = df['mpf_id_grade_intitule'].apply(lambda x: extract_grade(x.lower(), GRADE) if isinstance (x, str) else x)\n",
    "df['mpf_grade_normalized'] = df['mpf_grade_normalized'].map(grade_norme_dico)\n",
    "df = update_grade(df)\n",
    "\n",
    "# Separation des etrangers\n",
    "foreign = df[(df['etranger'] == \"Etranger\") | (df['famille'] == \"etranger\")]\n",
    "foreign.dropna(subset=['Lieu de naissance'], inplace=True)\n"
   ]
  },
  {
   "cell_type": "code",
   "execution_count": 3,
   "metadata": {},
   "outputs": [],
   "source": [
    "df.to_csv(\"data/primary/final_df.csv\", sep=',', index=False)"
   ]
  }
 ],
 "metadata": {
  "kernelspec": {
   "display_name": "base",
   "language": "python",
   "name": "python3"
  },
  "language_info": {
   "codemirror_mode": {
    "name": "ipython",
    "version": 3
   },
   "file_extension": ".py",
   "mimetype": "text/x-python",
   "name": "python",
   "nbconvert_exporter": "python",
   "pygments_lexer": "ipython3",
   "version": "3.9.13"
  }
 },
 "nbformat": 4,
 "nbformat_minor": 2
}
