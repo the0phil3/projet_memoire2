{
 "cells": [
  {
   "cell_type": "code",
   "execution_count": 6,
   "id": "0d29e331",
   "metadata": {},
   "outputs": [],
   "source": [
    "import shapely\n",
    "from PIL import Image, ImageDraw\n",
    "import numpy as np\n",
    "import os\n",
    "import re\n",
    "from lxml import etree\n",
    "import xml.etree.ElementTree as ET"
   ]
  },
  {
   "cell_type": "code",
   "execution_count": 7,
   "id": "77e38e84",
   "metadata": {},
   "outputs": [],
   "source": [
    "directory = \"/Users/Theo/Desktop/14-18/transcription/new_samples/\""
   ]
  },
  {
   "cell_type": "code",
   "execution_count": 8,
   "id": "00494a00",
   "metadata": {},
   "outputs": [
    {
     "name": "stdout",
     "output_type": "stream",
     "text": [
      "435116_archives_FRAD075RM_D4R1_2071_0265_D.jpg\n",
      "802253_archives_FRAD075RM_D4R1_1628_0691_D.jpg\n",
      "435116_archives_FRAD075RM_D4R1_2071_0264_D.jpg\n",
      "394626_archives_FRAD075RM_D4R1_1102_0220_D.jpg\n",
      "815346_archives_FRAD075RM_D4R1_1685_0044_D.jpg\n"
     ]
    }
   ],
   "source": [
    "#Code that displays the file paths in the alto documents\n",
    "for filename in os.listdir(directory):\n",
    "    if filename.endswith('.xml'):\n",
    "        # Load the XML file into an ElementTree object\n",
    "        tree = ET.parse(os.path.join(directory, filename))\n",
    "        \n",
    "        # Get the root element\n",
    "        root = tree.getroot()\n",
    "        \n",
    "        # Find the fileName element and print its text content\n",
    "        file_name_elems = root.findall(\".//{http://www.loc.gov/standards/alto/ns-v4#}fileName\")\n",
    "        for file_name_elem in file_name_elems:\n",
    "            print(file_name_elem.text)"
   ]
  },
  {
   "cell_type": "code",
   "execution_count": 4,
   "id": "e4d770b1",
   "metadata": {},
   "outputs": [],
   "source": [
    "#Code that changes the file paths in the alto documents\n",
    "ns_dict = {\n",
    "    'alto': 'http://www.loc.gov/standards/alto/ns-v4#',\n",
    "    'xsi': 'http://www.w3.org/2001/XMLSchema-instance'\n",
    "}\n",
    "ns_prefix = '{http://www.loc.gov/standards/alto/ns-v4#}'\n",
    "\n",
    "# Loop over all files in the directory\n",
    "for filename in os.listdir(directory):\n",
    "    if filename.endswith('.xml'):\n",
    "        # Load the XML file into an ElementTree object\n",
    "        tree = ET.parse(os.path.join(directory, filename))\n",
    "        \n",
    "        # Find the root element and remove the namespace prefix\n",
    "        root = tree.getroot()\n",
    "        if root.tag.startswith(ns_prefix):\n",
    "            root.tag = 'alto'\n",
    "            root.attrib = {\n",
    "                'xmlns:xsi': ns_dict['xsi'],\n",
    "                'xmlns': ns_dict['alto'],\n",
    "                'xsi:schemaLocation': 'http://www.loc.gov/standards/alto/ns-v4# http://www.loc.gov/standards/alto/v4/alto-4-3.xsd'\n",
    "            }\n",
    "        \n",
    "        # Find all elements with the ALTO namespace\n",
    "        for elem in tree.findall('.//{http://www.loc.gov/standards/alto/ns-v4#}*'):\n",
    "            # Remove the namespace prefix from the element tag\n",
    "            elem.tag = re.sub(r'{.*}', '', elem.tag)\n",
    "        \n",
    "        # Find all fileName elements and modify their text content\n",
    "        for file_name_elem in tree.findall('.//fileName', ns_dict):\n",
    "            # Remove all characters and signs in between any slashes in the filename, and return only the filename itself\n",
    "            file_name_elem.text = re.sub(r'^.*/', '', file_name_elem.text)\n",
    "            \n",
    "        # Write the modified XML file to disk\n",
    "        tree.write(os.path.join(directory, filename), encoding='UTF-8', xml_declaration=True)\n",
    "        \n",
    "        "
   ]
  },
  {
   "cell_type": "code",
   "execution_count": null,
   "id": "5581f767",
   "metadata": {},
   "outputs": [],
   "source": [
    "# Code that calculates IOU on polgons of each document"
   ]
  },
  {
   "cell_type": "code",
   "execution_count": null,
   "id": "1af706bd",
   "metadata": {},
   "outputs": [],
   "source": [
    "xml_file = \"/Users/Theo/Desktop/14-18/transcription/test_2/245309_archives_FRAD075RM_D4R1_1054_0751_D.xml\""
   ]
  },
  {
   "cell_type": "code",
   "execution_count": null,
   "id": "30254dc8",
   "metadata": {},
   "outputs": [],
   "source": [
    "with open(xml_file,'r') as my_file:\n",
    "    root = ET.parse(my_file)\n",
    "    \n",
    "    list_region_image = root.findall(\".//{http://www.loc.gov/standards/alto/ns-v4#}TextBlock[@TAGREFS='TYPE_6']\")\n",
    "    \n",
    "    coords_image = []\n",
    "    \n",
    "    for region in list_region_image:\n",
    "        coords_image.append(region.find('.//{http://www.loc.gov/standards/alto/ns-v4#}Polygon').attrib['POINTS'])\n",
    "            \n",
    "    dict_region = {}\n",
    "    for index, coords in enumerate(coords_image):\n",
    "        coords = coords.split()\n",
    "        coords = [int(i) for i in coords]\n",
    "    \n",
    "        dict_region[index] = list((coords[i], coords[i+1]) for i in range(0, len(coords)-1,2))\n",
    "    \n",
    "    dimensions = root.findall('.//{http://www.loc.gov/standards/alto/ns-v4#}Page')[0].attrib\n",
    "    imageWidth = int(dimensions['WIDTH'])\n",
    "    imageHeight = int(dimensions['HEIGHT'])\n",
    "    \n",
    "    image = Image.new('RGB', (imageWidth, imageHeight), color = 'yellow')\n",
    "    \n",
    "    for clef in dict_region:\n",
    "        ImageDraw.Draw(image).polygon(dict_region[clef], fill='pink')\n",
    "    mask = np.array(image)\n",
    "    image = Image.fromarray(mask)\n",
    "    \n",
    "    image.save('output.jpg', 'JPEG')\n",
    "    "
   ]
  },
  {
   "cell_type": "code",
   "execution_count": null,
   "id": "7ae22770",
   "metadata": {},
   "outputs": [],
   "source": [
    "dict_region"
   ]
  },
  {
   "cell_type": "code",
   "execution_count": null,
   "id": "022a3fe6",
   "metadata": {},
   "outputs": [],
   "source": [
    "from shapely.geometry import MultiPoint, Polygon\n",
    "simplify_points = Polygon(dict_region[0]).envelope\n",
    "default_points = Polygon(dict_region[0])\n",
    "intersect = default_points.intersection(simplify_points).area\n",
    "union = default_points.union(simplify_points).area\n",
    "iou = intersect/union\n",
    "iou\n"
   ]
  },
  {
   "cell_type": "code",
   "execution_count": null,
   "id": "b5b2a5a6",
   "metadata": {},
   "outputs": [],
   "source": [
    "iou_liste = []\n",
    "for i in range(len(dict_region)):\n",
    "    simplify_points = Polygon(dict_region[i]).envelope\n",
    "    default_points = Polygon(dict_region[i])\n",
    "    intersect = default_points.intersection(simplify_points).area\n",
    "    union = default_points.union(simplify_points).area\n",
    "    iou = intersect/union\n",
    "    iou_liste.append(iou)\n",
    "\n",
    "iou_liste"
   ]
  },
  {
   "cell_type": "code",
   "execution_count": null,
   "id": "b28113d5",
   "metadata": {},
   "outputs": [],
   "source": []
  }
 ],
 "metadata": {
  "kernelspec": {
   "display_name": "Python 3 (ipykernel)",
   "language": "python",
   "name": "python3"
  },
  "language_info": {
   "codemirror_mode": {
    "name": "ipython",
    "version": 3
   },
   "file_extension": ".py",
   "mimetype": "text/x-python",
   "name": "python",
   "nbconvert_exporter": "python",
   "pygments_lexer": "ipython3",
   "version": "3.9.13"
  }
 },
 "nbformat": 4,
 "nbformat_minor": 5
}
